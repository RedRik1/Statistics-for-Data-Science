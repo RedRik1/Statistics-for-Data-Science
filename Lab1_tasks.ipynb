{
  "nbformat": 4,
  "nbformat_minor": 0,
  "metadata": {
    "colab": {
      "provenance": [],
      "collapsed_sections": [
        "jVt420YpLVvo",
        "h3kCiRDiKtfr",
        "OZDC6jCYNCJj",
        "1P8HMSmJNhAB",
        "lbI7vio0Nsg-",
        "g1-QgspnN77g",
        "BgRKgShEOLHl",
        "rbCQwcK0ORTa",
        "2vIzxCHgOabN",
        "Z0SdoOwoOlzP",
        "HVb5PdKyPfKT",
        "Nq1BDazRPLGJ"
      ]
    },
    "kernelspec": {
      "name": "python3",
      "display_name": "Python 3"
    },
    "language_info": {
      "name": "python"
    }
  },
  "cells": [
    {
      "cell_type": "markdown",
      "source": [
        "# Lab 1 Assignment: Basics of Python\n",
        "\n",
        "Solve the questions in this jupyter notebook. You must:\n",
        "- make your code tidy with appropriate comments.\n",
        "- Use the code segment below the questions.\n",
        "- Submit the code by 11:59 PM, Saturday\n",
        " "
      ],
      "metadata": {
        "id": "jVt420YpLVvo"
      }
    },
    {
      "cell_type": "markdown",
      "source": [
        "# 1. Read inputs from the user. Write a Python program to return their product. If the product is greater than 1000, then return their sum as well. "
      ],
      "metadata": {
        "id": "h3kCiRDiKtfr"
      }
    },
    {
      "cell_type": "code",
      "execution_count": null,
      "metadata": {
        "id": "h6B52Fr2Kngi",
        "colab": {
          "base_uri": "https://localhost:8080/"
        },
        "outputId": "b0d35c97-a7a7-4d8a-835f-d1d3d9a7ea8a"
      },
      "outputs": [
        {
          "output_type": "stream",
          "name": "stdout",
          "text": [
            "Enter x: \n",
            "1500\n",
            "Enter y:\n",
            "1800\n",
            "The product:  2700000\n"
          ]
        }
      ],
      "source": [
        "print(\"Enter x: \")\n",
        "x = int(input())\n",
        "print(\"Enter y:\")\n",
        "y = int(input())\n",
        "if x>1000 and y>1000:\n",
        "  print(\"The product: \",x*y)\n",
        "else:\n",
        "  print(\"The sum: \",x+y)"
      ]
    },
    {
      "cell_type": "markdown",
      "source": [
        "# 2. Write a Python program to find the area and perimeter of a circle. Read inputs from the user."
      ],
      "metadata": {
        "id": "xkPxeljPM6PQ"
      }
    },
    {
      "cell_type": "code",
      "source": [
        "print(\"Enter radious: \")\n",
        "r = int(input())\n",
        "\n",
        "area = 3.4*pow(r,2)\n",
        "perimeter = 2 * 3.14 * r\n",
        "print(\"The Area: \",area, \"\\nThe perimeter: \",perimeter)"
      ],
      "metadata": {
        "id": "Hj_PKxSgNBH5",
        "colab": {
          "base_uri": "https://localhost:8080/"
        },
        "outputId": "2a9a8381-f062-4508-8df3-0164565f16d4"
      },
      "execution_count": null,
      "outputs": [
        {
          "output_type": "stream",
          "name": "stdout",
          "text": [
            "Enter radious: \n",
            "4\n",
            "The Area:  54.4 \n",
            "The perimeter:  25.12\n"
          ]
        }
      ]
    },
    {
      "cell_type": "markdown",
      "source": [
        "# 3. Given a positive integer N (read from the user), write a Python program to calculate the value of the following series.\n",
        "`1^2 + 2^2 + 3^2 + 4^2 + … + N^2`"
      ],
      "metadata": {
        "id": "OZDC6jCYNCJj"
      }
    },
    {
      "cell_type": "code",
      "source": [
        "x = int(input(\"Enter a positive integer : \"))\n",
        "sum = 0\n",
        "\n",
        "sum = (x * (x + 1) * (2 * x + 1)) / 6\n",
        "\n",
        "print(\"The Sum : \",sum)"
      ],
      "metadata": {
        "id": "G0kmtdqoNbio",
        "colab": {
          "base_uri": "https://localhost:8080/"
        },
        "outputId": "c59ec9a5-4f58-4504-c3b1-da26c64e7ece"
      },
      "execution_count": null,
      "outputs": [
        {
          "output_type": "stream",
          "name": "stdout",
          "text": [
            "Enter a positive integer : 10\n",
            "The Sum :  385.0\n"
          ]
        }
      ]
    },
    {
      "cell_type": "markdown",
      "source": [
        "# 4. Given a positive integer N (read from the user), write a Python program to check if the number is prime or not."
      ],
      "metadata": {
        "id": "1P8HMSmJNhAB"
      }
    },
    {
      "cell_type": "code",
      "source": [
        "x = int(input(\"Enter a positive integer : \"))\n",
        "# if the number is greater than 1\n",
        "if x > 1:\n",
        "   for i in range(2, x):\n",
        "       if (x % i) == 0:\n",
        "           print(\"This is not a prime number\")\n",
        "           break\n",
        "   else:\n",
        "       print(\"This is a prime number\")\n",
        "#if the number is less than 1       \n",
        "else:\n",
        "   print(\"This is not a prime number\")\n"
      ],
      "metadata": {
        "id": "1RM57x4eNlFs",
        "colab": {
          "base_uri": "https://localhost:8080/"
        },
        "outputId": "074c9eb5-5e9b-4ce8-8f96-ff180f05d56e"
      },
      "execution_count": null,
      "outputs": [
        {
          "output_type": "stream",
          "name": "stdout",
          "text": [
            "Enter a positive integer : 10\n",
            "This is not a prime number\n"
          ]
        }
      ]
    },
    {
      "cell_type": "markdown",
      "source": [
        "# 5. Given a list of numbers (hardcoded in the program), write a Python program to calculate the sum of the list. Do not use any built-in function."
      ],
      "metadata": {
        "id": "lbI7vio0Nsg-"
      }
    },
    {
      "cell_type": "code",
      "source": [
        "l = [5,7,9,12,1,2,6,9,10]\n",
        "sum = 0\n",
        "for x in l:\n",
        "  sum+=x\n",
        "print(sum)"
      ],
      "metadata": {
        "id": "ZtI16tjCNu1y",
        "colab": {
          "base_uri": "https://localhost:8080/"
        },
        "outputId": "89bacb37-a3ee-4ed5-8ea6-886f2c130871"
      },
      "execution_count": null,
      "outputs": [
        {
          "output_type": "stream",
          "name": "stdout",
          "text": [
            "61\n"
          ]
        }
      ]
    },
    {
      "cell_type": "markdown",
      "source": [
        "# 6. Given a list of numbers (hardcoded in the program), write a Python program to calculate the sum of the even-indexed elements in the list."
      ],
      "metadata": {
        "id": "g1-QgspnN77g"
      }
    },
    {
      "cell_type": "code",
      "source": [
        "l = [5,7,9,12,1,2,6,9,10]\n",
        "sum = 0\n",
        "for x in range(0, len(l)):\n",
        "  if x%2==0:\n",
        "    sum+=l[x]\n",
        "print(sum)"
      ],
      "metadata": {
        "id": "Q8ymeCypN-0d",
        "colab": {
          "base_uri": "https://localhost:8080/"
        },
        "outputId": "e1002e1c-3544-4d47-af91-91e6641ad0b1"
      },
      "execution_count": null,
      "outputs": [
        {
          "output_type": "stream",
          "name": "stdout",
          "text": [
            "31\n"
          ]
        }
      ]
    },
    {
      "cell_type": "markdown",
      "source": [
        "# 7. Given a list of numbers (hardcoded in the program), write a Python program to find the second largest element of the list."
      ],
      "metadata": {
        "id": "BgRKgShEOLHl"
      }
    },
    {
      "cell_type": "code",
      "source": [
        "l = [5,7,1,3,4,5,9,12,2,4,7,9]\n",
        "\n",
        "l.remove(max(l)) \n",
        "print(\"The second largest number is: \",max(l))"
      ],
      "metadata": {
        "id": "eOqMwnOfONGA",
        "colab": {
          "base_uri": "https://localhost:8080/"
        },
        "outputId": "9042cb4e-0cd3-421c-d30e-1f9bfb554f9f"
      },
      "execution_count": null,
      "outputs": [
        {
          "output_type": "stream",
          "name": "stdout",
          "text": [
            "The second largest number is:  9\n"
          ]
        }
      ]
    },
    {
      "cell_type": "markdown",
      "source": [
        "# 8. Given a string, display only those characters which are present at an even index number. Read inputs from the user."
      ],
      "metadata": {
        "id": "rbCQwcK0ORTa"
      }
    },
    {
      "cell_type": "code",
      "source": [
        "s = list(input().split())\n",
        "for i in s:\n",
        "    a = \"\"\n",
        "    for j in range(0,len(i)):\n",
        "        if j%2 == 0:\n",
        "            print(i[j])"
      ],
      "metadata": {
        "id": "-x-qAPwnOT3K",
        "colab": {
          "base_uri": "https://localhost:8080/"
        },
        "outputId": "4d0f64b5-c738-4c5a-e1f3-57448a8f037f"
      },
      "execution_count": null,
      "outputs": [
        {
          "output_type": "stream",
          "name": "stdout",
          "text": [
            "hello bagladesh\n",
            "h\n",
            "l\n",
            "o\n",
            "b\n",
            "g\n",
            "a\n",
            "e\n",
            "h\n"
          ]
        }
      ]
    },
    {
      "cell_type": "markdown",
      "source": [
        "# 9. Given a string and an integer number N, remove characters from a string starting from zero up to N and return a new string. N must be less than the length of the string. Read inputs from the user. Do not use any built-in function."
      ],
      "metadata": {
        "id": "2vIzxCHgOabN"
      }
    },
    {
      "cell_type": "code",
      "source": [
        "only_string = []\n",
        "string = \"CSE303\"\n",
        "for i in string:\n",
        "  if not i.isdigit():\n",
        "    only_string.append(i)\n",
        "output = ''.join(only_string)\n",
        "print(output)"
      ],
      "metadata": {
        "colab": {
          "base_uri": "https://localhost:8080/"
        },
        "id": "jnW92N7lo9kS",
        "outputId": "c98a52e1-1dfa-47f4-d330-86339f73c82b"
      },
      "execution_count": 18,
      "outputs": [
        {
          "output_type": "stream",
          "name": "stdout",
          "text": [
            "CSE\n"
          ]
        }
      ]
    },
    {
      "cell_type": "markdown",
      "source": [
        "# 10. Given a string, find the count of the substring “CSE303” appeared in the given string. Do not use any built-in function.\n",
        "\n",
        "The string is: \"This is CSE303 course. The name of CSE303 is: Statistics for Data Science. It's a fundamental CSE course for future data scientists.\""
      ],
      "metadata": {
        "id": "Z0SdoOwoOlzP"
      }
    },
    {
      "cell_type": "code",
      "source": [
        "s = \"This is CSE303 course. The name of CSE303 is: Statistics for Data Science. It's a fundamental CSE course for future data scientists.\"\n",
        "\n",
        "print(\"The substring apeared \",s.count(\"CSE303\"),\" times\")"
      ],
      "metadata": {
        "id": "D5we1z4CPDTe",
        "colab": {
          "base_uri": "https://localhost:8080/"
        },
        "outputId": "c88ebc5d-0840-4a4a-b3e4-75b14e926b23"
      },
      "execution_count": null,
      "outputs": [
        {
          "output_type": "stream",
          "name": "stdout",
          "text": [
            "The substring apeared  2  times\n"
          ]
        }
      ]
    },
    {
      "cell_type": "markdown",
      "source": [
        "# 11. Given a two list of numbers (hardcoded in the program), create a new list such that new list should contain only odd numbers from the first list and even numbers from the second list."
      ],
      "metadata": {
        "id": "HVb5PdKyPfKT"
      }
    },
    {
      "cell_type": "code",
      "source": [
        "list1 = [2,6,7,34,23,45,6,7,12,35,60]\n",
        "list2 = [5,10,15,20,25,30,35,40,45,50]\n",
        "list3=[]\n",
        "for i in list1:\n",
        "  if i%2!=0:\n",
        "    list3.append(i)\n",
        "for j in list2:\n",
        "  if j%2==0:\n",
        "    list3.append(j)\n",
        "print(list3)\n",
        "\n"
      ],
      "metadata": {
        "id": "TojILvwsPiXG",
        "colab": {
          "base_uri": "https://localhost:8080/"
        },
        "outputId": "ce6ea1d7-7af6-4646-a54d-205c56204002"
      },
      "execution_count": null,
      "outputs": [
        {
          "output_type": "stream",
          "name": "stdout",
          "text": [
            "[7, 23, 45, 7, 35, 10, 20, 30, 40, 50]\n"
          ]
        }
      ]
    },
    {
      "cell_type": "markdown",
      "source": [
        "# Bonus points:\n",
        "\n",
        "Learn how to define functions in python and solve the problem:\n",
        "\n",
        "Given a string, write a python program to check if it is palindrome or not. Define a function named palindrome_checker_<your-student-id> in your program."
      ],
      "metadata": {
        "id": "Nq1BDazRPLGJ"
      }
    },
    {
      "cell_type": "code",
      "source": [
        "def palindrome_checker(s):\n",
        "\n",
        "\trev = \"\".join(reversed(s))\n",
        "\n",
        "\tif (s == rev):\n",
        "\t\tprint(\"YES!,This is a palindrome\")\n",
        "\telse:\n",
        "\t\tprint(\"NO!,This is not a plindrome\")\n",
        "\t\n",
        "s = \"WOW\"\n",
        "palindrome_checker(s)"
      ],
      "metadata": {
        "id": "qqUt8Objrs73",
        "colab": {
          "base_uri": "https://localhost:8080/"
        },
        "outputId": "781658ff-ef08-4403-95f3-f8b655c79297"
      },
      "execution_count": 10,
      "outputs": [
        {
          "output_type": "stream",
          "name": "stdout",
          "text": [
            "YES!,This is a palindrome\n"
          ]
        }
      ]
    },
    {
      "cell_type": "code",
      "source": [],
      "metadata": {
        "id": "0OOIngOOm07J"
      },
      "execution_count": null,
      "outputs": []
    }
  ]
}